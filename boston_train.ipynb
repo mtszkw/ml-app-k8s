{
 "cells": [
  {
   "cell_type": "code",
   "execution_count": 1,
   "id": "conventional-renaissance",
   "metadata": {},
   "outputs": [
    {
     "name": "stdout",
     "output_type": "stream",
     "text": [
      "(400, 13) (50, 13) (56, 13)\n"
     ]
    }
   ],
   "source": [
    "from sklearn.datasets import load_boston\n",
    "\n",
    "X, y = load_boston(return_X_y=True)\n",
    "\n",
    "X_train, y_train = X[:400], y[:400]\n",
    "X_valid, y_valid = X[400:450], y[400:450]\n",
    "X_test, y_test = X[450:], y[450:]\n",
    "print(X_train.shape, X_valid.shape, X_test.shape)"
   ]
  },
  {
   "cell_type": "code",
   "execution_count": 9,
   "id": "brazilian-diving",
   "metadata": {},
   "outputs": [
    {
     "data": {
      "text/plain": [
       "(13,)"
      ]
     },
     "execution_count": 9,
     "metadata": {},
     "output_type": "execute_result"
    }
   ],
   "source": [
    "X_test[0], y_test[0]"
   ]
  },
  {
   "cell_type": "code",
   "execution_count": 3,
   "id": "pleasant-distributor",
   "metadata": {},
   "outputs": [
    {
     "data": {
      "text/html": [
       "<div>\n",
       "<style scoped>\n",
       "    .dataframe tbody tr th:only-of-type {\n",
       "        vertical-align: middle;\n",
       "    }\n",
       "\n",
       "    .dataframe tbody tr th {\n",
       "        vertical-align: top;\n",
       "    }\n",
       "\n",
       "    .dataframe thead th {\n",
       "        text-align: right;\n",
       "    }\n",
       "</style>\n",
       "<table border=\"1\" class=\"dataframe\">\n",
       "  <thead>\n",
       "    <tr style=\"text-align: right;\">\n",
       "      <th></th>\n",
       "      <th>0</th>\n",
       "      <th>1</th>\n",
       "      <th>2</th>\n",
       "      <th>3</th>\n",
       "      <th>4</th>\n",
       "      <th>5</th>\n",
       "      <th>6</th>\n",
       "      <th>7</th>\n",
       "      <th>8</th>\n",
       "      <th>9</th>\n",
       "      <th>10</th>\n",
       "      <th>11</th>\n",
       "      <th>12</th>\n",
       "    </tr>\n",
       "  </thead>\n",
       "  <tbody>\n",
       "    <tr>\n",
       "      <th>count</th>\n",
       "      <td>400.000000</td>\n",
       "      <td>400.000000</td>\n",
       "      <td>400.000000</td>\n",
       "      <td>400.00000</td>\n",
       "      <td>400.000000</td>\n",
       "      <td>400.000000</td>\n",
       "      <td>400.000000</td>\n",
       "      <td>400.000000</td>\n",
       "      <td>400.000000</td>\n",
       "      <td>400.000000</td>\n",
       "      <td>400.000000</td>\n",
       "      <td>400.000000</td>\n",
       "      <td>400.000000</td>\n",
       "    </tr>\n",
       "    <tr>\n",
       "      <th>mean</th>\n",
       "      <td>1.750859</td>\n",
       "      <td>14.375000</td>\n",
       "      <td>9.416350</td>\n",
       "      <td>0.08750</td>\n",
       "      <td>0.530119</td>\n",
       "      <td>6.336232</td>\n",
       "      <td>64.081750</td>\n",
       "      <td>4.199694</td>\n",
       "      <td>6.617500</td>\n",
       "      <td>349.780000</td>\n",
       "      <td>18.004500</td>\n",
       "      <td>379.854450</td>\n",
       "      <td>11.250575</td>\n",
       "    </tr>\n",
       "    <tr>\n",
       "      <th>std</th>\n",
       "      <td>5.987782</td>\n",
       "      <td>25.397726</td>\n",
       "      <td>6.511713</td>\n",
       "      <td>0.28292</td>\n",
       "      <td>0.113920</td>\n",
       "      <td>0.733711</td>\n",
       "      <td>28.990673</td>\n",
       "      <td>2.177279</td>\n",
       "      <td>6.303215</td>\n",
       "      <td>128.403447</td>\n",
       "      <td>2.220565</td>\n",
       "      <td>40.692472</td>\n",
       "      <td>6.770453</td>\n",
       "    </tr>\n",
       "    <tr>\n",
       "      <th>min</th>\n",
       "      <td>0.006320</td>\n",
       "      <td>0.000000</td>\n",
       "      <td>0.460000</td>\n",
       "      <td>0.00000</td>\n",
       "      <td>0.385000</td>\n",
       "      <td>3.561000</td>\n",
       "      <td>2.900000</td>\n",
       "      <td>1.129600</td>\n",
       "      <td>1.000000</td>\n",
       "      <td>187.000000</td>\n",
       "      <td>12.600000</td>\n",
       "      <td>70.800000</td>\n",
       "      <td>1.730000</td>\n",
       "    </tr>\n",
       "    <tr>\n",
       "      <th>25%</th>\n",
       "      <td>0.066098</td>\n",
       "      <td>0.000000</td>\n",
       "      <td>4.125000</td>\n",
       "      <td>0.00000</td>\n",
       "      <td>0.442000</td>\n",
       "      <td>5.890500</td>\n",
       "      <td>37.675000</td>\n",
       "      <td>2.341350</td>\n",
       "      <td>4.000000</td>\n",
       "      <td>276.000000</td>\n",
       "      <td>16.600000</td>\n",
       "      <td>381.187500</td>\n",
       "      <td>6.285000</td>\n",
       "    </tr>\n",
       "    <tr>\n",
       "      <th>50%</th>\n",
       "      <td>0.160735</td>\n",
       "      <td>0.000000</td>\n",
       "      <td>7.015000</td>\n",
       "      <td>0.00000</td>\n",
       "      <td>0.505500</td>\n",
       "      <td>6.227500</td>\n",
       "      <td>68.750000</td>\n",
       "      <td>3.876050</td>\n",
       "      <td>5.000000</td>\n",
       "      <td>307.000000</td>\n",
       "      <td>18.400000</td>\n",
       "      <td>392.525000</td>\n",
       "      <td>9.605000</td>\n",
       "    </tr>\n",
       "    <tr>\n",
       "      <th>75%</th>\n",
       "      <td>0.731915</td>\n",
       "      <td>21.000000</td>\n",
       "      <td>13.920000</td>\n",
       "      <td>0.00000</td>\n",
       "      <td>0.581000</td>\n",
       "      <td>6.686250</td>\n",
       "      <td>91.900000</td>\n",
       "      <td>5.658650</td>\n",
       "      <td>6.000000</td>\n",
       "      <td>403.000000</td>\n",
       "      <td>20.200000</td>\n",
       "      <td>396.540000</td>\n",
       "      <td>14.477500</td>\n",
       "    </tr>\n",
       "    <tr>\n",
       "      <th>max</th>\n",
       "      <td>88.976200</td>\n",
       "      <td>100.000000</td>\n",
       "      <td>25.650000</td>\n",
       "      <td>1.00000</td>\n",
       "      <td>0.871000</td>\n",
       "      <td>8.780000</td>\n",
       "      <td>100.000000</td>\n",
       "      <td>12.126500</td>\n",
       "      <td>24.000000</td>\n",
       "      <td>666.000000</td>\n",
       "      <td>22.000000</td>\n",
       "      <td>396.900000</td>\n",
       "      <td>37.970000</td>\n",
       "    </tr>\n",
       "  </tbody>\n",
       "</table>\n",
       "</div>"
      ],
      "text/plain": [
       "               0           1           2          3           4           5   \\\n",
       "count  400.000000  400.000000  400.000000  400.00000  400.000000  400.000000   \n",
       "mean     1.750859   14.375000    9.416350    0.08750    0.530119    6.336232   \n",
       "std      5.987782   25.397726    6.511713    0.28292    0.113920    0.733711   \n",
       "min      0.006320    0.000000    0.460000    0.00000    0.385000    3.561000   \n",
       "25%      0.066098    0.000000    4.125000    0.00000    0.442000    5.890500   \n",
       "50%      0.160735    0.000000    7.015000    0.00000    0.505500    6.227500   \n",
       "75%      0.731915   21.000000   13.920000    0.00000    0.581000    6.686250   \n",
       "max     88.976200  100.000000   25.650000    1.00000    0.871000    8.780000   \n",
       "\n",
       "               6           7           8           9           10          11  \\\n",
       "count  400.000000  400.000000  400.000000  400.000000  400.000000  400.000000   \n",
       "mean    64.081750    4.199694    6.617500  349.780000   18.004500  379.854450   \n",
       "std     28.990673    2.177279    6.303215  128.403447    2.220565   40.692472   \n",
       "min      2.900000    1.129600    1.000000  187.000000   12.600000   70.800000   \n",
       "25%     37.675000    2.341350    4.000000  276.000000   16.600000  381.187500   \n",
       "50%     68.750000    3.876050    5.000000  307.000000   18.400000  392.525000   \n",
       "75%     91.900000    5.658650    6.000000  403.000000   20.200000  396.540000   \n",
       "max    100.000000   12.126500   24.000000  666.000000   22.000000  396.900000   \n",
       "\n",
       "               12  \n",
       "count  400.000000  \n",
       "mean    11.250575  \n",
       "std      6.770453  \n",
       "min      1.730000  \n",
       "25%      6.285000  \n",
       "50%      9.605000  \n",
       "75%     14.477500  \n",
       "max     37.970000  "
      ]
     },
     "execution_count": 3,
     "metadata": {},
     "output_type": "execute_result"
    }
   ],
   "source": [
    "import pandas as pd\n",
    "\n",
    "df = pd.DataFrame(X_train)\n",
    "df.describe()"
   ]
  },
  {
   "cell_type": "code",
   "execution_count": 4,
   "id": "green-gamma",
   "metadata": {},
   "outputs": [
    {
     "name": "stdout",
     "output_type": "stream",
     "text": [
      "[0]\tvalidation_0-rmse:9.90863\n",
      "[1]\tvalidation_0-rmse:7.49255\n",
      "[2]\tvalidation_0-rmse:5.81100\n",
      "[3]\tvalidation_0-rmse:4.88996\n",
      "[4]\tvalidation_0-rmse:4.54206\n",
      "[5]\tvalidation_0-rmse:4.40958\n",
      "[6]\tvalidation_0-rmse:4.35129\n",
      "[7]\tvalidation_0-rmse:4.37491\n",
      "[8]\tvalidation_0-rmse:4.35767\n",
      "[9]\tvalidation_0-rmse:4.35525\n",
      "[10]\tvalidation_0-rmse:4.31976\n",
      "[11]\tvalidation_0-rmse:4.28887\n",
      "[12]\tvalidation_0-rmse:4.22968\n",
      "[13]\tvalidation_0-rmse:4.23766\n",
      "[14]\tvalidation_0-rmse:4.26021\n",
      "[15]\tvalidation_0-rmse:4.28652\n",
      "[16]\tvalidation_0-rmse:4.27238\n",
      "[17]\tvalidation_0-rmse:4.26637\n",
      "[18]\tvalidation_0-rmse:4.25097\n",
      "[19]\tvalidation_0-rmse:4.25214\n",
      "[20]\tvalidation_0-rmse:4.25369\n",
      "[21]\tvalidation_0-rmse:4.24403\n",
      "[22]\tvalidation_0-rmse:4.24932\n"
     ]
    },
    {
     "data": {
      "text/plain": [
       "16.424260923499656"
      ]
     },
     "execution_count": 4,
     "metadata": {},
     "output_type": "execute_result"
    }
   ],
   "source": [
    "from xgboost import XGBRegressor\n",
    "from sklearn.metrics import mean_squared_error\n",
    "\n",
    "model = XGBRegressor(n_estimators=100, max_depth=8)\n",
    "model.fit(X_train, y_train,\n",
    "          eval_metric=\"rmse\",\n",
    "          eval_set=[(X_valid, y_valid)],\n",
    "          early_stopping_rounds=10)\n",
    "\n",
    "mean_squared_error(y_test, model.predict(X_test), squared=True)"
   ]
  },
  {
   "cell_type": "code",
   "execution_count": 5,
   "id": "standard-semiconductor",
   "metadata": {},
   "outputs": [],
   "source": [
    "model.save_model(\"xgbregressor_boston.json\")"
   ]
  },
  {
   "cell_type": "code",
   "execution_count": 6,
   "id": "artistic-breeding",
   "metadata": {},
   "outputs": [
    {
     "data": {
      "text/plain": [
       "16.424260923499656"
      ]
     },
     "execution_count": 6,
     "metadata": {},
     "output_type": "execute_result"
    }
   ],
   "source": [
    "inference_model = XGBRegressor()\n",
    "inference_model.load_model(\"xgbregressor_boston.json\")\n",
    "\n",
    "mean_squared_error(y_test, inference_model.predict(X_test), squared=True)"
   ]
  },
  {
   "cell_type": "code",
   "execution_count": 16,
   "id": "decent-antigua",
   "metadata": {},
   "outputs": [
    {
     "data": {
      "text/plain": [
       "72.28654102653323"
      ]
     },
     "execution_count": 16,
     "metadata": {},
     "output_type": "execute_result"
    }
   ],
   "source": [
    "import numpy as np\n",
    "\n",
    "mean_squared_error(\n",
    "    np.array([y_test[0]]),\n",
    "    inference_model.predict(np.expand_dims(X_test[0], axis=0)), squared=True)"
   ]
  }
 ],
 "metadata": {
  "kernelspec": {
   "display_name": "Python 3",
   "language": "python",
   "name": "python3"
  },
  "language_info": {
   "codemirror_mode": {
    "name": "ipython",
    "version": 3
   },
   "file_extension": ".py",
   "mimetype": "text/x-python",
   "name": "python",
   "nbconvert_exporter": "python",
   "pygments_lexer": "ipython3",
   "version": "3.8.5"
  }
 },
 "nbformat": 4,
 "nbformat_minor": 5
}
